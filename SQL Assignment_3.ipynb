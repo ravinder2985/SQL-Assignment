{
 "cells": [
  {
   "cell_type": "markdown",
   "id": "40e2168d",
   "metadata": {},
   "source": [
    "### Q-1. Write an SQL query to print the FIRST_NAME from Worker table after removing white spaces from the right side."
   ]
  },
  {
   "cell_type": "raw",
   "id": "610a695e",
   "metadata": {},
   "source": [
    "Ans: SELECT RTRIM(FIRST_NAME) FROM Worker;"
   ]
  },
  {
   "cell_type": "markdown",
   "id": "b53dfdab",
   "metadata": {},
   "source": [
    "### Q-2. Write an SQL query that fetches the unique values of DEPARTMENT from Worker table and prints its length."
   ]
  },
  {
   "cell_type": "raw",
   "id": "789dda65",
   "metadata": {},
   "source": [
    "Ans: SELECT DISTINCT(DEPARTMENT),LEN(DEPARTMENT) FROM Worker;"
   ]
  },
  {
   "cell_type": "markdown",
   "id": "41c2578c",
   "metadata": {},
   "source": [
    "### Q-3. Write an SQL query to fetch nth max salaries from a table."
   ]
  },
  {
   "cell_type": "raw",
   "id": "26345e4b",
   "metadata": {},
   "source": [
    "Ans: SELECT DISTINCT(Salary) FROM Worker ORDER BY Salary DESC LIMIT 1 OFFSET n;"
   ]
  }
 ],
 "metadata": {
  "kernelspec": {
   "display_name": "Python 3 (ipykernel)",
   "language": "python",
   "name": "python3"
  },
  "language_info": {
   "codemirror_mode": {
    "name": "ipython",
    "version": 3
   },
   "file_extension": ".py",
   "mimetype": "text/x-python",
   "name": "python",
   "nbconvert_exporter": "python",
   "pygments_lexer": "ipython3",
   "version": "3.9.7"
  }
 },
 "nbformat": 4,
 "nbformat_minor": 5
}
