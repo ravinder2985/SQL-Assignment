{
 "cells": [
  {
   "cell_type": "markdown",
   "id": "effa5077",
   "metadata": {},
   "source": [
    "### Q-1. Write an SQL query to print the FIRST_NAME from Worker table after replacing ‘a’ with ‘A’."
   ]
  },
  {
   "cell_type": "raw",
   "id": "0b43c427",
   "metadata": {},
   "source": [
    "Ans: SELECT REPLACE(FIRST_NAME,'a','A') FROM Wokrer;"
   ]
  },
  {
   "cell_type": "markdown",
   "id": "71d151eb",
   "metadata": {},
   "source": [
    "### Q-2. Write an SQL query to print all Worker details from the Worker table order by FIRST_NAME Ascending and DEPARTMENT Descending."
   ]
  },
  {
   "cell_type": "raw",
   "id": "901ec146",
   "metadata": {},
   "source": [
    "Ans: SELECT * FROM Worker ORDER BY FIRST_NAME ASC, LAST_NAME DESC;"
   ]
  },
  {
   "cell_type": "markdown",
   "id": "401f136d",
   "metadata": {},
   "source": [
    "### Q-3. Write an SQL query to fetch the names of workers who earn the highest salary."
   ]
  },
  {
   "cell_type": "raw",
   "id": "dd7a2b65",
   "metadata": {},
   "source": [
    "Ans: SELECT FIRST_NAME, LAST_NAME FROM Worker WHERE SALARY = (SELECT MAX(SALARY) FROM Worker);"
   ]
  }
 ],
 "metadata": {
  "kernelspec": {
   "display_name": "Python 3 (ipykernel)",
   "language": "python",
   "name": "python3"
  },
  "language_info": {
   "codemirror_mode": {
    "name": "ipython",
    "version": 3
   },
   "file_extension": ".py",
   "mimetype": "text/x-python",
   "name": "python",
   "nbconvert_exporter": "python",
   "pygments_lexer": "ipython3",
   "version": "3.9.7"
  }
 },
 "nbformat": 4,
 "nbformat_minor": 5
}
